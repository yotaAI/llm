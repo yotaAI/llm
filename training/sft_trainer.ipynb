{
 "cells": [
  {
   "cell_type": "code",
   "execution_count": null,
   "id": "f7cbff8b",
   "metadata": {},
   "outputs": [],
   "source": [
    "import torch\n",
    "import warnings\n",
    "warnings.filterwarnings(\"ignore\", category=UserWarning)"
   ]
  },
  {
   "cell_type": "markdown",
   "id": "54bc65b1",
   "metadata": {},
   "source": [
    "### Load Model"
   ]
  },
  {
   "cell_type": "code",
   "execution_count": 2,
   "id": "779dea9e",
   "metadata": {},
   "outputs": [
    {
     "name": "stderr",
     "output_type": "stream",
     "text": [
      "C:\\Users\\yotaa\\AppData\\Local\\Packages\\PythonSoftwareFoundation.Python.3.12_qbz5n2kfra8p0\\LocalCache\\local-packages\\Python312\\site-packages\\tqdm\\auto.py:21: TqdmWarning: IProgress not found. Please update jupyter and ipywidgets. See https://ipywidgets.readthedocs.io/en/stable/user_install.html\n",
      "  from .autonotebook import tqdm as notebook_tqdm\n"
     ]
    },
    {
     "name": "stdout",
     "output_type": "stream",
     "text": [
      "trainable params: 3,976,192 || all params: 600,026,112 || trainable%: 0.6627\n"
     ]
    }
   ],
   "source": [
    "from transformers import AutoTokenizer,AutoModelForCausalLM,BitsAndBytesConfig\n",
    "from peft import LoraConfig, TaskType, get_peft_model\n",
    "model_pth = \"../../models/Qwen3-0.6B\"\n",
    "\n",
    "tokenizer = AutoTokenizer.from_pretrained(model_pth,fast=True)\n",
    "lora_config = LoraConfig(\n",
    "            r=8,\n",
    "            task_type=TaskType.CAUSAL_LM,\n",
    "            lora_alpha=16,\n",
    "            lora_dropout=0.01,\n",
    "            # init_lora_weights='gaussian',\n",
    "            target_modules=['gate_proj','up_proj','down_proj','lm_head'],\n",
    "        )\n",
    "model = AutoModelForCausalLM.from_pretrained(model_pth,\n",
    "                                            device_map='auto',\n",
    "                                            torch_dtype=torch.bfloat16,\n",
    "                                            \n",
    "                                            )\n",
    "model.config.pad_token_id=model.config.eos_token_id\n",
    "model = get_peft_model(model, lora_config)\n",
    "model.print_trainable_parameters()\n",
    "tokenizer.model_max_length=64\n",
    "tokenizer.padding_side='left'"
   ]
  },
  {
   "cell_type": "markdown",
   "id": "b80c50fc",
   "metadata": {},
   "source": [
    "### Load Dataset"
   ]
  },
  {
   "cell_type": "code",
   "execution_count": 4,
   "id": "2eb97d4c",
   "metadata": {},
   "outputs": [],
   "source": [
    "def filtering(examples):\n",
    "    return tokenizer.encode(f\"Translate English to Hindi.\\nEnglish:\\n{examples['en']}\\n##Hindi:\\n{examples['hi']}\",return_tensors='pt').shape[-1]<tokenizer.model_max_length\n",
    "def formatting(examples):\n",
    "    prompt = f\"Translate English to Hindi.\\nEnglish:\\n{examples['en']}\\n##Hindi:\\n\"\n",
    "    response = examples['hi']\n",
    "    return dict(prompt=prompt,completion=response)"
   ]
  },
  {
   "cell_type": "code",
   "execution_count": null,
   "id": "f28a33e1",
   "metadata": {},
   "outputs": [],
   "source": [
    "from datasets import load_dataset,DatasetDict\n",
    "dataset=load_dataset(\"bajpaideeksha/english-hindi-colloquial-dataset\")['train']\n",
    "dataset=dataset.rename_columns({'\"English Input\"':\"en\",'\"Hindi Output\"':\"hi\"})\n",
    "dataset = dataset.filter(filtering)\n",
    "dataset = dataset.map(formatting,remove_columns=dataset.column_names)\n",
    "dataset = dataset.train_test_split(0.1)"
   ]
  },
  {
   "cell_type": "markdown",
   "id": "fdc75f80",
   "metadata": {},
   "source": [
    "## Data Collator"
   ]
  },
  {
   "cell_type": "code",
   "execution_count": 6,
   "id": "610eee6c",
   "metadata": {},
   "outputs": [],
   "source": [
    "from typing import List, Dict\n",
    "from collections import defaultdict\n",
    "\n",
    "class PromptResponseDataCollator:\n",
    "    def __init__(self, tokenizer: AutoTokenizer):\n",
    "        self.tokenizer = tokenizer\n",
    "\n",
    "    def __call__(self, batch: List[Dict[str, str]]):\n",
    "        inputs = defaultdict(list)\n",
    "        labels = defaultdict(list)\n",
    "        # Extract texts\n",
    "        texts = [example['prompt'] + example['completion'] + self.tokenizer.eos_token for example in batch]\n",
    "        prompts = [example['prompt'] for example in batch]\n",
    "\n",
    "        for text,prompt in zip(texts,prompts):\n",
    "            prompt_completion_ids=tokenizer.encode(text)\n",
    "            prompt_ids=tokenizer.encode(prompt)\n",
    "            assert prompt_completion_ids[:len(prompt_ids)]==prompt_ids,\"Mismatch between tokenized prompt and the start of tokenized prompt+completion.\"\n",
    "\n",
    "            #Set Prompt value to ignore_index value\n",
    "            prompt_completion_ids[:len(prompt_ids)]=[ -100 ]*len(prompt_ids)\n",
    "\n",
    "            #Prompots\n",
    "            output = tokenizer.encode(text)\n",
    "            inputs['input_ids'].append(output)\n",
    "            labels['input_ids'].append(prompt_completion_ids)\n",
    "\n",
    "        # Apply Padding\n",
    "        inputs=tokenizer.pad(inputs,return_tensors='pt')\n",
    "        labels=tokenizer.pad(labels,return_tensors='pt')\n",
    "        \n",
    "        labs=labels['input_ids']\n",
    "        mask=labels['attention_mask']\n",
    "        labs[mask==0]=-100\n",
    "        inputs['labels']=labs\n",
    "\n",
    "        return inputs\n",
    "datacollator=PromptResponseDataCollator(tokenizer)"
   ]
  },
  {
   "cell_type": "markdown",
   "id": "dc76cdb9",
   "metadata": {},
   "source": [
    "### Metrics"
   ]
  },
  {
   "cell_type": "code",
   "execution_count": 7,
   "id": "954c5619",
   "metadata": {},
   "outputs": [],
   "source": [
    "import evaluate\n",
    "import numpy as np\n",
    "metric = evaluate.load(\"sacrebleu\")\n",
    "\n",
    "def compute_metrics(eval_preds):\n",
    "    global preds,labels\n",
    "    preds, labels = eval_preds\n",
    "    preds= preds.argmax(axis=-1)\n",
    "    preds[labels==-100]=tokenizer.pad_token_id\n",
    "    labels[labels==-100]=tokenizer.pad_token_id\n",
    "    decoded_preds = tokenizer.batch_decode(labels,skip_special_tokens=True)\n",
    "    decoded_labels = tokenizer.batch_decode(preds,skip_special_tokens=True)\n",
    "    decoded_preds = [pred.strip() for pred in decoded_preds]\n",
    "    decoded_labels = [[label.strip()] for label in decoded_labels]\n",
    "    result = metric.compute(predictions=decoded_preds, references=decoded_labels)\n",
    "    return {\"bleu\": result[\"score\"]}\n"
   ]
  },
  {
   "cell_type": "markdown",
   "id": "c09fad50",
   "metadata": {},
   "source": [
    "### Trainer"
   ]
  },
  {
   "cell_type": "code",
   "execution_count": 8,
   "id": "638acb70",
   "metadata": {},
   "outputs": [
    {
     "name": "stderr",
     "output_type": "stream",
     "text": [
      "You're using a Qwen2TokenizerFast tokenizer. Please note that with a fast tokenizer, using the `__call__` method is faster than using a method to encode the text followed by a call to the `pad` method to get a padded encoding.\n"
     ]
    },
    {
     "data": {
      "text/html": [
       "\n",
       "    <div>\n",
       "      \n",
       "      <progress value='730' max='730' style='width:300px; height:20px; vertical-align: middle;'></progress>\n",
       "      [730/730 01:51, Epoch 10/10]\n",
       "    </div>\n",
       "    <table border=\"1\" class=\"dataframe\">\n",
       "  <thead>\n",
       " <tr style=\"text-align: left;\">\n",
       "      <th>Epoch</th>\n",
       "      <th>Training Loss</th>\n",
       "      <th>Validation Loss</th>\n",
       "      <th>Bleu</th>\n",
       "    </tr>\n",
       "  </thead>\n",
       "  <tbody>\n",
       "    <tr>\n",
       "      <td>1</td>\n",
       "      <td>3.706300</td>\n",
       "      <td>2.213621</td>\n",
       "      <td>6.711379</td>\n",
       "    </tr>\n",
       "    <tr>\n",
       "      <td>2</td>\n",
       "      <td>1.855400</td>\n",
       "      <td>1.637332</td>\n",
       "      <td>16.191307</td>\n",
       "    </tr>\n",
       "    <tr>\n",
       "      <td>3</td>\n",
       "      <td>1.445500</td>\n",
       "      <td>1.402447</td>\n",
       "      <td>28.157392</td>\n",
       "    </tr>\n",
       "    <tr>\n",
       "      <td>4</td>\n",
       "      <td>1.203400</td>\n",
       "      <td>1.249496</td>\n",
       "      <td>34.754514</td>\n",
       "    </tr>\n",
       "    <tr>\n",
       "      <td>5</td>\n",
       "      <td>1.061700</td>\n",
       "      <td>1.151669</td>\n",
       "      <td>39.502582</td>\n",
       "    </tr>\n",
       "    <tr>\n",
       "      <td>6</td>\n",
       "      <td>0.905800</td>\n",
       "      <td>1.096217</td>\n",
       "      <td>43.472561</td>\n",
       "    </tr>\n",
       "    <tr>\n",
       "      <td>7</td>\n",
       "      <td>0.769600</td>\n",
       "      <td>1.046083</td>\n",
       "      <td>44.543070</td>\n",
       "    </tr>\n",
       "    <tr>\n",
       "      <td>8</td>\n",
       "      <td>0.664900</td>\n",
       "      <td>1.029133</td>\n",
       "      <td>45.971624</td>\n",
       "    </tr>\n",
       "    <tr>\n",
       "      <td>9</td>\n",
       "      <td>0.589800</td>\n",
       "      <td>1.012726</td>\n",
       "      <td>46.914798</td>\n",
       "    </tr>\n",
       "    <tr>\n",
       "      <td>10</td>\n",
       "      <td>0.512100</td>\n",
       "      <td>1.008392</td>\n",
       "      <td>48.595655</td>\n",
       "    </tr>\n",
       "  </tbody>\n",
       "</table><p>"
      ],
      "text/plain": [
       "<IPython.core.display.HTML object>"
      ]
     },
     "metadata": {},
     "output_type": "display_data"
    },
    {
     "data": {
      "text/plain": [
       "TrainOutput(global_step=730, training_loss=1.2714380865227686, metrics={'train_runtime': 111.4944, 'train_samples_per_second': 51.751, 'train_steps_per_second': 6.547, 'total_flos': 578689629652992.0, 'train_loss': 1.2714380865227686, 'epoch': 10.0})"
      ]
     },
     "execution_count": 8,
     "metadata": {},
     "output_type": "execute_result"
    }
   ],
   "source": [
    "from transformers import Trainer,TrainingArguments\n",
    "training_args = TrainingArguments(\n",
    "    output_dir='./tmp',\n",
    "    lr_scheduler_type=\"constant\",\n",
    "    num_train_epochs=10,\n",
    "    # max_steps=2,\n",
    "    per_device_train_batch_size=8,\n",
    "    # gradient_accumulation_steps=8,\n",
    "    learning_rate=2e-5,\n",
    "    weight_decay=0.01,\n",
    "    warmup_steps=10,\n",
    "    logging_strategy='epoch',\n",
    "    eval_strategy='epoch',\n",
    "    # eval_steps=2,\n",
    "    # logging_steps=2,\n",
    "    bf16=True,\n",
    "    remove_unused_columns=False,\n",
    "\n",
    ")\n",
    "trainer = Trainer(\n",
    "    model,\n",
    "    training_args,\n",
    "    train_dataset=dataset['train'],\n",
    "    eval_dataset=dataset['test'],\n",
    "    compute_metrics=compute_metrics,\n",
    "    data_collator=datacollator,\n",
    ")\n",
    "trainer.train()"
   ]
  },
  {
   "cell_type": "markdown",
   "id": "8aec0fc6",
   "metadata": {},
   "source": [
    "## Test"
   ]
  },
  {
   "cell_type": "code",
   "execution_count": 10,
   "id": "87adeeba",
   "metadata": {},
   "outputs": [
    {
     "name": "stderr",
     "output_type": "stream",
     "text": [
      "The following generation flags are not valid and may be ignored: ['temperature', 'top_p', 'top_k']. Set `TRANSFORMERS_VERBOSITY=info` for more details.\n"
     ]
    },
    {
     "name": "stdout",
     "output_type": "stream",
     "text": [
      "Prediction   : \"Today lecture skip karte hain.\"\n",
      "Original     : \"Lecture bunk karte hain aaj.\"\n"
     ]
    }
   ],
   "source": [
    "eval_model = trainer.model\n",
    "eval_model.eval()\n",
    "prompt = f'Translate English to Hindi.\\nEnglish:\\n\"Let’s skip the lecture today.\"\\n##Hindi:\\n'\n",
    "with torch.no_grad():\n",
    "    tokens=tokenizer.encode(prompt,return_tensors='pt')\n",
    "    output = eval_model.generate(tokens.to(eval_model.device),do_sample=False)\n",
    "    print(\"Prediction   :\",tokenizer.batch_decode(output.cpu(),skip_special_tokens=True)[0][len(prompt):])\n",
    "    print(\"Original     :\",'\"Lecture bunk karte hain aaj.\"')"
   ]
  },
  {
   "cell_type": "markdown",
   "id": "741ba6e0",
   "metadata": {},
   "source": [
    "## Save"
   ]
  },
  {
   "cell_type": "code",
   "execution_count": null,
   "id": "6e4cf94c",
   "metadata": {},
   "outputs": [],
   "source": [
    "save_path=\"final_model\"\n",
    "eval_model.save_pretrained(save_path)\n",
    "tokenizer.save_pretrained(save_path)"
   ]
  }
 ],
 "metadata": {
  "kernelspec": {
   "display_name": "Python 3",
   "language": "python",
   "name": "python3"
  },
  "language_info": {
   "codemirror_mode": {
    "name": "ipython",
    "version": 3
   },
   "file_extension": ".py",
   "mimetype": "text/x-python",
   "name": "python",
   "nbconvert_exporter": "python",
   "pygments_lexer": "ipython3",
   "version": "3.12.10"
  }
 },
 "nbformat": 4,
 "nbformat_minor": 5
}
